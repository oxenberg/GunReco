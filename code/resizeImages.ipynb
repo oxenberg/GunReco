{
 "cells": [
  {
   "cell_type": "code",
   "execution_count": 2,
   "metadata": {},
   "outputs": [],
   "source": [
    "from PIL import Image\n",
    "import os\n",
    "import argparse\n",
    "def rescale_images(directory, size):\n",
    "    for img in os.listdir(directory):\n",
    "        im = Image.open(directory+img)\n",
    "        im_resized = im.resize(size, Image.ANTIALIAS)\n",
    "        im_resized.save(directory+img)    \n",
    "        \n",
    "        \n",
    "rescale_images(\"../data/Images/\",(300,300))"
   ]
  },
  {
   "cell_type": "code",
   "execution_count": null,
   "metadata": {},
   "outputs": [],
   "source": []
  }
 ],
 "metadata": {
  "kernelspec": {
   "display_name": "Python 3",
   "language": "python",
   "name": "python3"
  },
  "language_info": {
   "codemirror_mode": {
    "name": "ipython",
    "version": 3
   },
   "file_extension": ".py",
   "mimetype": "text/x-python",
   "name": "python",
   "nbconvert_exporter": "python",
   "pygments_lexer": "ipython3",
   "version": "3.7.3"
  }
 },
 "nbformat": 4,
 "nbformat_minor": 4
}
