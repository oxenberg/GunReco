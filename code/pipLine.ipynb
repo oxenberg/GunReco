{
 "cells": [
  {
   "cell_type": "code",
   "execution_count": 6,
   "metadata": {},
   "outputs": [],
   "source": [
    "from kaggle.api.kaggle_api_extended import KaggleApi\n",
    "import pathlib\n",
    "import zipfile"
   ]
  },
  {
   "cell_type": "code",
   "execution_count": 7,
   "metadata": {},
   "outputs": [],
   "source": [
    "def extract(fname):\n",
    "    with zipfile.ZipFile(pathlib.Path().absolute()/fname, 'r') as zip_ref:\n",
    "        zip_ref.extractall(pathlib.Path().absolute())\n"
   ]
  },
  {
   "cell_type": "code",
   "execution_count": 5,
   "metadata": {},
   "outputs": [
    {
     "name": "stdout",
     "output_type": "stream",
     "text": [
      "Downloading guns-object-detection.zip to C:\\projects\\GunReco\\code\n",
      "\n"
     ]
    },
    {
     "name": "stderr",
     "output_type": "stream",
     "text": [
      "\n",
      "  0%|          | 0.00/4.89M [00:00<?, ?B/s]\n",
      " 20%|##        | 1.00M/4.89M [00:00<00:01, 2.36MB/s]\n",
      " 41%|####      | 2.00M/4.89M [00:00<00:01, 2.85MB/s]\n",
      " 61%|######1   | 3.00M/4.89M [00:00<00:00, 3.31MB/s]\n",
      " 82%|########1 | 4.00M/4.89M [00:01<00:00, 3.75MB/s]\n",
      "100%|##########| 4.89M/4.89M [00:01<00:00, 4.21MB/s]\n",
      "100%|##########| 4.89M/4.89M [00:01<00:00, 4.33MB/s]\n"
     ]
    }
   ],
   "source": [
    "! kaggle datasets download -d issaisasank/guns-object-detection\n",
    "extract(\"guns-object-detection.zip\")"
   ]
  },
  {
   "cell_type": "code",
   "execution_count": 8,
   "metadata": {},
   "outputs": [],
   "source": []
  },
  {
   "cell_type": "code",
   "execution_count": null,
   "metadata": {},
   "outputs": [],
   "source": []
  }
 ],
 "metadata": {
  "kernelspec": {
   "display_name": "Python 3",
   "language": "python",
   "name": "python3"
  },
  "language_info": {
   "codemirror_mode": {
    "name": "ipython",
    "version": 3
   },
   "file_extension": ".py",
   "mimetype": "text/x-python",
   "name": "python",
   "nbconvert_exporter": "python",
   "pygments_lexer": "ipython3",
   "version": "3.7.7"
  }
 },
 "nbformat": 4,
 "nbformat_minor": 4
}
