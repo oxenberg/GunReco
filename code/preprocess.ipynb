{
 "cells": [
  {
   "cell_type": "code",
   "execution_count": 6,
   "metadata": {},
   "outputs": [],
   "source": [
    "import glob\n",
    "import pandas as pd \n",
    "from PIL import Image\n",
    "import os\n",
    "import argparse"
   ]
  },
  {
   "cell_type": "code",
   "execution_count": null,
   "metadata": {},
   "outputs": [],
   "source": [
    "! kaggle datasets download -d issaisasank/guns-object-detection"
   ]
  },
  {
   "cell_type": "code",
   "execution_count": null,
   "metadata": {},
   "outputs": [],
   "source": [
    "def extract(fname):\n",
    "    with zipfile.ZipFile(pathlib.Path().absolute()/fname, 'r') as zip_ref:\n",
    "        zip_ref.extractall(pathlib.Path().absolute())\n",
    "\n",
    "\n",
    "def createRow(path):\n",
    "    data = pd.read_csv(path, sep=\" \",names = [\"xmin\",\"ymin\",\"xmax\",\"ymax\"],skiprows=[0])\n",
    "    data[\"filename\"] = path.split(\"/\")[2].split(\"\\\\\")[1].replace(\"txt\",\"jpeg\")\n",
    "    return data\n",
    "\n",
    "\n",
    "def rescale_images(directory, size):\n",
    "    for img in os.listdir(directory):\n",
    "        im = Image.open(directory+img)\n",
    "        im_resized = im.resize(size, Image.ANTIALIAS)\n",
    "        im_resized.save(directory+img)    "
   ]
  },
  {
   "cell_type": "code",
   "execution_count": null,
   "metadata": {},
   "outputs": [],
   "source": [
    "extract(\"guns-object-detection.zip\")\n",
    "\n",
    "labels_path = glob.glob(r\"../data/Images/*.txt\")\n",
    "images_path = glob.glob(r\"../data/Images/*.jpeg\")"
   ]
  },
  {
   "cell_type": "code",
   "execution_count": null,
   "metadata": {},
   "outputs": [],
   "source": [
    "rescale_images(\"../data/Images/\",(300,300))"
   ]
  },
  {
   "cell_type": "code",
   "execution_count": 52,
   "metadata": {},
   "outputs": [],
   "source": [
    "df = pd.DataFrame()\n",
    "for path in labels_path:\n",
    "    df = df.append(createRow(path),ignore_index = True)\n",
    "    \n",
    "df[\"class\"] = \"gun\"\n",
    "\n",
    "train=df.sample(frac=0.8,random_state=200) #random state is a seed value\n",
    "test=df.drop(train.index)\n",
    "\n",
    "train.to_csv(\"../data/train.csv\")\n",
    "test.to_csv(\"../data/test.csv\")"
   ]
  }
 ],
 "metadata": {
  "kernelspec": {
   "display_name": "Python 3",
   "language": "python",
   "name": "python3"
  },
  "language_info": {
   "codemirror_mode": {
    "name": "ipython",
    "version": 3
   },
   "file_extension": ".py",
   "mimetype": "text/x-python",
   "name": "python",
   "nbconvert_exporter": "python",
   "pygments_lexer": "ipython3",
   "version": "3.7.3"
  }
 },
 "nbformat": 4,
 "nbformat_minor": 4
}
